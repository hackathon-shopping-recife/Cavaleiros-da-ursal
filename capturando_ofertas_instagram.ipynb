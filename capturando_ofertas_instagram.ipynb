{
 "cells": [
  {
   "cell_type": "code",
   "execution_count": 7,
   "metadata": {},
   "outputs": [],
   "source": [
    "import json\n",
    "import pandas as pd\n",
    " \n",
    "import requests\n",
    "from random import choice\n",
    "from bs4 import BeautifulSoup"
   ]
  },
  {
   "cell_type": "code",
   "execution_count": 1,
   "metadata": {},
   "outputs": [],
   "source": [
    "_user_agents = [\n",
    "    'Mozilla/5.0 (Windows NT 10.0; Win64; x64) AppleWebKit/537.36 (KHTML, like Gecko) Chrome/65.0.3325.181 Safari/537.36'\n",
    "]\n",
    " \n",
    " \n",
    "class InstagramScraper:\n",
    " \n",
    "    def __init__(self, user_agents=None, proxy=None):\n",
    "        self.user_agents = user_agents\n",
    "        self.proxy = proxy\n",
    " \n",
    "    def __random_agent(self):\n",
    "        if self.user_agents and isinstance(self.user_agents, list):\n",
    "            return choice(self.user_agents)\n",
    "        return choice(_user_agents)\n",
    " \n",
    "    def __request_url(self, url):\n",
    "        try:\n",
    "            response = requests.get(url, headers={'User-Agent': self.__random_agent()}, proxies={'http': self.proxy,\n",
    "                                                                                                 'https': self.proxy})\n",
    "            response.raise_for_status()\n",
    "        except requests.HTTPError:\n",
    "            raise requests.HTTPError('Received non 200 status code from Instagram')\n",
    "        except requests.RequestException:\n",
    "            raise requests.RequestException\n",
    "        else:\n",
    "            return response.text\n",
    " \n",
    "    @staticmethod\n",
    "    def extract_json_data(html):\n",
    "        soup = BeautifulSoup(html, 'html.parser')\n",
    "        body = soup.find('body')\n",
    "        script_tag = body.find('script')\n",
    "        raw_string = script_tag.text.strip().replace('window._sharedData =', '').replace(';', '')\n",
    "        return json.loads(raw_string)\n",
    " \n",
    "    def profile_page_metrics(self, profile_url):\n",
    "        results = {}\n",
    "        try:\n",
    "            response = self.__request_url(profile_url)\n",
    "            json_data = self.extract_json_data(response)\n",
    "            metrics = json_data['entry_data']['ProfilePage'][0]['graphql']['user']\n",
    "        except Exception as e:\n",
    "            raise e\n",
    "        else:\n",
    "            for key, value in metrics.items():\n",
    "                if key != 'edge_owner_to_timeline_media':\n",
    "                    if value and isinstance(value, dict):\n",
    "                        value = value['count']\n",
    "                        results[key] = value\n",
    "                    elif value:\n",
    "                        results[key] = value\n",
    "        return results\n",
    " \n",
    "    def profile_page_recent_posts(self, profile_url):\n",
    "        results = []\n",
    "        try:\n",
    "            response = self.__request_url(profile_url)\n",
    "            json_data = self.extract_json_data(response)\n",
    "            metrics = json_data['entry_data']['ProfilePage'][0]['graphql']['user']['edge_owner_to_timeline_media'][\"edges\"]\n",
    "        except Exception as e:\n",
    "            raise e\n",
    "        else:\n",
    "            for node in metrics:\n",
    "                node = node.get('node')\n",
    "                if node and isinstance(node, dict):\n",
    "                    results.append(node)\n",
    "        return results\n",
    "        "
   ]
  },
  {
   "cell_type": "markdown",
   "metadata": {},
   "source": [
    "Montando base de indicativos ofertas através do instagram. Estas palavras serão buscadas no texto das postagens das lojas. Se forem encontradas, são fortes indícios de que a postagem é sobre desconto."
   ]
  },
  {
   "cell_type": "code",
   "execution_count": 21,
   "metadata": {},
   "outputs": [],
   "source": [
    "palavras_indicativo_oferta = ['oferta', 'promoç', 'desconto', 'liquid', 'off', '%']"
   ]
  },
  {
   "cell_type": "code",
   "execution_count": 22,
   "metadata": {},
   "outputs": [],
   "source": [
    "k = InstagramScraper()\n",
    "\n",
    "lojas = pd.read_csv('lojas.csv')\n",
    "lojas_com_instagram = lojas[pd.notnull(lojas['REDE SOCIAL'])]\n",
    "tem_oferta = []\n",
    "for i in range(0, len(lojas_com_instagram)):\n",
    "    data = k.profile_page_recent_posts(lojas_com_instagram.iloc[[i]]['REDE SOCIAL'].values[0])\n",
    "    tem_oferta.append(False)\n",
    "    for postagem in data:\n",
    "        texto = postagem['edge_media_to_caption']['edges'][0]['node']['text']\n",
    "        for palavra in palavras_indicativo_oferta:\n",
    "            if palavra in texto:\n",
    "                tem_oferta[-1] = True\n",
    "                break\n",
    "        if tem_oferta[-1]:\n",
    "            break"
   ]
  },
  {
   "cell_type": "code",
   "execution_count": 25,
   "metadata": {},
   "outputs": [
    {
     "name": "stderr",
     "output_type": "stream",
     "text": [
      "/home/marcelo/cement_env/lib/python3.6/site-packages/ipykernel_launcher.py:1: SettingWithCopyWarning: \n",
      "A value is trying to be set on a copy of a slice from a DataFrame.\n",
      "Try using .loc[row_indexer,col_indexer] = value instead\n",
      "\n",
      "See the caveats in the documentation: http://pandas.pydata.org/pandas-docs/stable/indexing.html#indexing-view-versus-copy\n",
      "  \"\"\"Entry point for launching an IPython kernel.\n"
     ]
    }
   ],
   "source": [
    "lojas_com_instagram['tem_oferta'] = tem_oferta"
   ]
  },
  {
   "cell_type": "code",
   "execution_count": 29,
   "metadata": {},
   "outputs": [],
   "source": [
    "lojas_com_instagram[lojas_com_instagram['tem_oferta']].to_csv('lojas_oferta.csv', index=False)"
   ]
  }
 ],
 "metadata": {
  "kernelspec": {
   "display_name": "Python 3",
   "language": "python",
   "name": "python3"
  },
  "language_info": {
   "codemirror_mode": {
    "name": "ipython",
    "version": 3
   },
   "file_extension": ".py",
   "mimetype": "text/x-python",
   "name": "python",
   "nbconvert_exporter": "python",
   "pygments_lexer": "ipython3",
   "version": "3.6.5"
  }
 },
 "nbformat": 4,
 "nbformat_minor": 2
}
